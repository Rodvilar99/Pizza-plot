{
 "cells": [
  {
   "cell_type": "code",
   "execution_count": null,
   "metadata": {},
   "outputs": [],
   "source": [
    "import pandas as pd\n",
    "import numpy as np\n",
    "\n",
    "from scipy import stats\n",
    "import math\n",
    "\n",
    "from mplsoccer import PyPizza, add_image, FontManager\n",
    "import matplotlib.pyplot as plt"
   ]
  },
  {
   "cell_type": "code",
   "execution_count": null,
   "metadata": {},
   "outputs": [],
   "source": [
    "df = pd.read_csv('Pizza.csv')\n",
    "df = df.fillna(0)"
   ]
  },
  {
   "cell_type": "code",
   "execution_count": null,
   "metadata": {},
   "outputs": [],
   "source": [
    "df.head()\n"
   ]
  },
  {
   "cell_type": "code",
   "execution_count": null,
   "metadata": {},
   "outputs": [],
   "source": [
    "df = df.loc[(df['Pos']=='FW') & (df['90s']>10)]\n",
    "df.head()"
   ]
  },
  {
   "cell_type": "code",
   "execution_count": null,
   "metadata": {},
   "outputs": [],
   "source": [
    "df = df.drop(['Pos'],axis=1).reset_index()\n",
    "df.head()"
   ]
  },
  {
   "cell_type": "code",
   "execution_count": null,
   "metadata": {},
   "outputs": [],
   "source": [
    "params = list(df.columns)\n",
    "params"
   ]
  },
  {
   "cell_type": "code",
   "execution_count": null,
   "metadata": {},
   "outputs": [],
   "source": [
    "params = params[2:]\n",
    "params.remove('Dist')\n",
    "params.remove('PK')\n",
    "params.remove('PKatt')\n",
    "params"
   ]
  },
  {
   "cell_type": "code",
   "execution_count": null,
   "metadata": {},
   "outputs": [],
   "source": [
    "# The player needs to be spelled exactly the same way as it is in the data. Accents and everything.\n",
    "\n",
    "player = df.loc[df['Player']=='Matías Cóccaro'].reset_index()\n",
    "player = list(player.loc[0])\n",
    "print(player)"
   ]
  },
  {
   "cell_type": "code",
   "execution_count": null,
   "metadata": {},
   "outputs": [],
   "source": [
    "df.Player.values"
   ]
  },
  {
   "cell_type": "code",
   "execution_count": null,
   "metadata": {},
   "outputs": [],
   "source": [
    "print(len(player),print(len(params)))\n",
    "player = player[6:]\n",
    "print(len(player),print(len(params)))\n",
    "\n",
    "player\n"
   ]
  },
  {
   "cell_type": "code",
   "execution_count": null,
   "metadata": {},
   "outputs": [],
   "source": [
    "print(len(player),print(len(params)))"
   ]
  },
  {
   "cell_type": "code",
   "execution_count": null,
   "metadata": {},
   "outputs": [],
   "source": [
    "values = []\n",
    "for x in range(len(params)):\n",
    "    score = stats.percentileofscore(df[params[x]],player[x])\n",
    "\n",
    "    "
   ]
  },
  {
   "cell_type": "code",
   "execution_count": null,
   "metadata": {},
   "outputs": [],
   "source": [
    "round(stats.percentileofscore(df[params[0]],player[0]))"
   ]
  },
  {
   "cell_type": "code",
   "execution_count": null,
   "metadata": {},
   "outputs": [],
   "source": [
    "for n,i in enumerate(player):\n",
    "    if i == 100:\n",
    "        player[n] = 99"
   ]
  },
  {
   "cell_type": "code",
   "execution_count": null,
   "metadata": {},
   "outputs": [],
   "source": [
    "font_normal = FontManager('https://raw.githubusercontent.com/google/fonts/main/apache/roboto/'\n",
    "                          'Roboto%5Bwdth,wght%5D.ttf')\n",
    "font_italic = FontManager('https://raw.githubusercontent.com/google/fonts/main/apache/roboto/'\n",
    "                          'Roboto-Italic%5Bwdth,wght%5D.ttf')\n",
    "font_bold = FontManager('https://raw.githubusercontent.com/google/fonts/main/apache/robotoslab/'\n",
    "                        'RobotoSlab%5Bwght%5D.ttf')"
   ]
  },
  {
   "cell_type": "code",
   "execution_count": null,
   "metadata": {},
   "outputs": [],
   "source": [
    "baker = PyPizza(\n",
    "    params=params,                  # list of parameters\n",
    "    straight_line_color=\"#000000\",  # color for straight lines\n",
    "    straight_line_lw=1,             # linewidth for straight lines\n",
    "    last_circle_lw=1,               # linewidth of last circle\n",
    "    other_circle_lw=1,              # linewidth for other circles\n",
    "    other_circle_ls=\"-.\" \n",
    "    )\n"
   ]
  },
  {
   "cell_type": "code",
   "execution_count": null,
   "metadata": {},
   "outputs": [],
   "source": []
  },
  {
   "cell_type": "code",
   "execution_count": null,
   "metadata": {},
   "outputs": [],
   "source": [
    "# plot pizza\n",
    "fig, ax = baker.make_pizza(\n",
    "    player,              # list of values\n",
    "    figsize=(8, 8),      # adjust figsize according to your need\n",
    "    param_location=110,  # where the parameters will be added\n",
    "    kwargs_slices=dict(\n",
    "        facecolor=\"#6CABDD\", edgecolor=\"#000000\",\n",
    "        zorder=2, linewidth=1\n",
    "    ),                   # values to be used when plotting slices\n",
    "    kwargs_params=dict(\n",
    "        color=\"#000000\", fontsize=12,\n",
    "        va=\"center\", alpha=.5\n",
    "    ),                   # values to be used when adding parameter\n",
    "    kwargs_values=dict(\n",
    "        color=\"#000000\", fontsize=12,\n",
    "        zorder=3,\n",
    "        bbox=dict(\n",
    "            edgecolor=\"#000000\", facecolor=\"#6CABDD\",\n",
    "            boxstyle=\"round,pad=0.2\", lw=1\n",
    "        )\n",
    "    )                    # values to be used when adding parameter-values\n",
    ")\n",
    "\n",
    "# add title\n",
    "fig.text(\n",
    "    0.515, 0.97, \"João Cancelo - Manchester City\", size=18,\n",
    "    ha=\"center\", color=\"#000000\"\n",
    ")\n",
    "\n",
    "# add subtitle\n",
    "fig.text(\n",
    "    0.515, 0.942,\n",
    "    \"Per 90 Percentile Rank vs Premier League Defenders | 2020-21\",\n",
    "    size=15,\n",
    "    ha=\"center\", color=\"#000000\"\n",
    ")\n",
    "\n",
    "# add credits\n",
    "notes = 'Players only with more than 15 90s'\n",
    "CREDIT_1 = \"data: statsbomb via fbref\"\n",
    "CREDIT_2 = \"inspired by: @Worville, @FootballSlices, @somazerofc & @Soumyaj15209314\"\n",
    "\n",
    "fig.text(\n",
    "    0.99, 0.005, f\"{notes}\\n{CREDIT_1}\\n{CREDIT_2}\", size=9,\n",
    "    color=\"#000000\",\n",
    "    ha=\"right\"\n",
    ")\n",
    "\n",
    "plt.savefig('pizza.png',dpi=500,bbox_inches = 'tight')"
   ]
  }
 ],
 "metadata": {
  "kernelspec": {
   "display_name": "Python 3 (ipykernel)",
   "language": "python",
   "name": "python3"
  },
  "language_info": {
   "codemirror_mode": {
    "name": "ipython",
    "version": 3
   },
   "file_extension": ".py",
   "mimetype": "text/x-python",
   "name": "python",
   "nbconvert_exporter": "python",
   "pygments_lexer": "ipython3",
   "version": "3.9.13"
  }
 },
 "nbformat": 4,
 "nbformat_minor": 2
}
