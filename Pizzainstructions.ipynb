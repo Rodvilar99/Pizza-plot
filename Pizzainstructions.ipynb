{
 "cells": [
  {
   "attachments": {},
   "cell_type": "markdown",
   "metadata": {},
   "source": [
    "First we want to import the packages needed into our python project\n",
    "We introduce the following code:"
   ]
  },
  {
   "cell_type": "code",
   "execution_count": null,
   "metadata": {},
   "outputs": [],
   "source": [
    "\n",
    "import matplotlib.pyplot as plt\n",
    "from PIL import Image\n",
    "\n",
    "from mplsoccer import PyPizza, add_image, FontManager"
   ]
  },
  {
   "attachments": {},
   "cell_type": "markdown",
   "metadata": {},
   "source": [
    "Following this we introduce this code in order to import the fonts required to make the pizza plot"
   ]
  },
  {
   "cell_type": "code",
   "execution_count": null,
   "metadata": {},
   "outputs": [],
   "source": [
    "font_normal = FontManager('https://raw.githubusercontent.com/google/fonts/main/apache/roboto/'\n",
    "                          'Roboto%5Bwdth,wght%5D.ttf')\n",
    "font_italic = FontManager('https://raw.githubusercontent.com/google/fonts/main/apache/roboto/'\n",
    "                          'Roboto-Italic%5Bwdth,wght%5D.ttf')\n",
    "font_bold = FontManager('https://raw.githubusercontent.com/google/fonts/main/apache/robotoslab/'\n",
    "                        'RobotoSlab%5Bwght%5D.ttf')"
   ]
  },
  {
   "attachments": {},
   "cell_type": "markdown",
   "metadata": {},
   "source": [
    "The next chunk of code is going to work as a way to introduce our image. Remember to cut as a circle and save as PNG to avoid having background. \n",
    "The image has to be saved in the same folder as the project. and the name need to be correctly copied after image_path =, in between the \" \" (quotation mark)"
   ]
  },
  {
   "cell_type": "code",
   "execution_count": null,
   "metadata": {},
   "outputs": [],
   "source": [
    "image_path = \"Image.png\"\n",
    "cropped = Image.open(image_path)"
   ]
  },
  {
   "attachments": {},
   "cell_type": "markdown",
   "metadata": {},
   "source": [
    "Now we are gonna fill the values and categories for our pizza plot.\n",
    "\n",
    "First we have the parameter list. each of this parameters are going to represent a slice of our pizza. In this case we have goals and assist. Remember to introduce them in between quotation marks and separated by comma \n",
    "\n",
    "Following this we need to adjust our value list. this values are going to be present in our calculation with the formula in the excel spreadsheet. there are two important things to consider here. First, there has to be the same amount of values than parameters. Second, make sure that the values are in order so they belong to the corresponding parameter. "
   ]
  },
  {
   "cell_type": "code",
   "execution_count": null,
   "metadata": {},
   "outputs": [],
   "source": [
    "# parameter list\n",
    "params = [\n",
    "    \"Goals\", \"Assists\", \"Games Played\" \n",
    "]\n",
    "\n",
    "# value list\n",
    "values = [\n",
    "    70, 77, 100\n",
    "]\n",
    "\n"
   ]
  },
  {
   "attachments": {},
   "cell_type": "markdown",
   "metadata": {},
   "source": [
    "The following part of code is to adjust the colors of our slices. we need to use HEX codes to fill this. In addition it is important that we introduce how many slices of each color we want in our plot. in this case we have 3 colors. the * (asterisk) represents multiplication, hence if we put a 5 after the HEX code of the color red we are going to have 5 slices in red. \n",
    "The same thing with text colors. This represents the colors of the fonts used in the text of each slice of the pizza plot\n",
    "\n",
    "It is important that the sum of the numbers in this case 1 + 1 + 1 and 2 + 1 are equal to the amount of parameters, in this case 3 "
   ]
  },
  {
   "cell_type": "code",
   "execution_count": null,
   "metadata": {},
   "outputs": [],
   "source": [
    "# color for the slices and text\n",
    "slice_colors = [\"#1A78CF\"] * 1 + [\"#FF9300\"] * 1 + [\"#D70232\"] * 1\n",
    "text_colors = [\"#000000\"] * 2 + [\"#F2F2F2\"] * 1"
   ]
  },
  {
   "attachments": {},
   "cell_type": "markdown",
   "metadata": {},
   "source": [
    "Now we are ready to plot our pizza. The very first thing that we need to modify is the title. we can find it after the (#add title) in this case \"Frenkie de Jong - FC Barcelona\". Just write whatever you want according to what yo are plotting. you can also modify the font size by changign the number after size=\n",
    "\n",
    "The same instructions apply to subtitle and credits\n",
    "\n",
    "At the very bottom of the code, we need to modify the name of the file to be saved. the code is: \n",
    "plt.savefig('pizza.png', dpi=500, bbox_inches='tight') \n",
    "\n",
    "we need to change the pizza.png in order to change the filename."
   ]
  },
  {
   "cell_type": "code",
   "execution_count": null,
   "metadata": {},
   "outputs": [],
   "source": [
    "\n",
    "\n",
    "# instantiate PyPizza class\n",
    "baker = PyPizza(\n",
    "    params=params,                  # list of parameters\n",
    "    background_color=\"#EBEBE9\",     # background color\n",
    "    straight_line_color=\"#EBEBE9\",  # color for straight lines\n",
    "    straight_line_lw=1,             # linewidth for straight lines\n",
    "    last_circle_lw=0,               # linewidth of last circle\n",
    "    other_circle_lw=0,              # linewidth for other circles\n",
    "    inner_circle_size=20            # size of inner circle\n",
    ")\n",
    "\n",
    "# plot pizza\n",
    "fig, ax = baker.make_pizza(\n",
    "    values,                          # list of values\n",
    "    figsize=(8, 8.5),                # adjust figsize according to your need\n",
    "    color_blank_space=\"same\",        # use same color to fill blank space\n",
    "    slice_colors=slice_colors,       # color for individual slices\n",
    "    value_colors=text_colors,        # color for the value-text\n",
    "    value_bck_colors=slice_colors,   # color for the blank spaces\n",
    "    blank_alpha=0.4,                 # alpha for blank-space colors\n",
    "    kwargs_slices=dict(\n",
    "        edgecolor=\"#F2F2F2\", zorder=2, linewidth=1\n",
    "    ),                               # values to be used when plotting slices\n",
    "    kwargs_params=dict(\n",
    "        color=\"#000000\", fontsize=11,\n",
    "        fontproperties=font_normal.prop, va=\"center\"\n",
    "    ),                               # values to be used when adding parameter\n",
    "    kwargs_values=dict(\n",
    "        color=\"#000000\", fontsize=11,\n",
    "        fontproperties=font_normal.prop, zorder=3,\n",
    "        bbox=dict(\n",
    "            edgecolor=\"#000000\", facecolor=\"cornflowerblue\",\n",
    "            boxstyle=\"round,pad=0.2\", lw=1\n",
    "        )\n",
    "    )                                # values to be used when adding parameter-values\n",
    ")\n",
    "\n",
    "# add title\n",
    "fig.text(\n",
    "    0.515, 0.975, \"Frenkie de Jong - FC Barcelona\", size=16,\n",
    "    ha=\"center\", fontproperties=font_bold.prop, color=\"#000000\"\n",
    ")\n",
    "\n",
    "# add subtitle\n",
    "fig.text(\n",
    "    0.515, 0.953,\n",
    "    \"Percentile Rank vs Top-Five League Midfielders | Season 2020-21\",\n",
    "    size=13,\n",
    "    ha=\"center\", fontproperties=font_bold.prop, color=\"#000000\"\n",
    ")\n",
    "\n",
    "# add credits\n",
    "CREDIT_1 = \"data: statsbomb viz fbref\"\n",
    "\n",
    "\n",
    "fig.text(\n",
    "    0.99, 0.02, f\"{CREDIT_1}\\n\", size=9,\n",
    "    fontproperties=font_italic.prop, color=\"#000000\",\n",
    "    ha=\"right\"\n",
    ")\n",
    "\n",
    "\n",
    "\n",
    "# add image\n",
    "ax_image = add_image(\n",
    "    cropped, fig, left=0.4478, bottom=0.4315, width=0.13, height=0.127\n",
    ")   # these values might differ when you are plotting\n",
    "\n",
    "plt.show()\n",
    "\n",
    "plt.savefig('pizza.png', dpi=500, bbox_inches='tight')"
   ]
  }
 ],
 "metadata": {
  "kernelspec": {
   "display_name": "base",
   "language": "python",
   "name": "python3"
  },
  "language_info": {
   "codemirror_mode": {
    "name": "ipython",
    "version": 3
   },
   "file_extension": ".py",
   "mimetype": "text/x-python",
   "name": "python",
   "nbconvert_exporter": "python",
   "pygments_lexer": "ipython3",
   "version": "3.9.13"
  },
  "orig_nbformat": 4
 },
 "nbformat": 4,
 "nbformat_minor": 2
}
